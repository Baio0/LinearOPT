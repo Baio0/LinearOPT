{
 "cells": [
  {
   "cell_type": "code",
   "execution_count": 77,
   "id": "1a703e69-b281-485e-b7a4-a438cf5edfa1",
   "metadata": {},
   "outputs": [],
   "source": [
    "import torch\n",
    "import numpy as np \n",
    "import os\n",
    "import sys\n",
    "import numba as nbf\n",
    "import matplotlib.pyplot as plt\n",
    "import time\n",
    "from sklearn.datasets import make_swiss_roll, make_moons, make_circles\n",
    "import ot\n",
    "import csv\n",
    "\n",
    "os.chdir('/home/baly/projects/linear_opt')\n",
    "\n",
    "#from lib.library import *\n",
    "#from lib.lib_ot import *\n",
    "from lib.lib_lopt import *\n",
    "from lib.geodesic import *"
   ]
  },
  {
   "cell_type": "code",
   "execution_count": 90,
   "id": "e67d30f6-0f6a-44cd-96c8-ffb89d6a31dc",
   "metadata": {},
   "outputs": [],
   "source": [
    "i = 0\n",
    "def row_to_numpy_2d_noP(row, cat):\n",
    "    data={}\n",
    "    row2=row.copy()\n",
    "    label =row2['label']\n",
    "    del row2['label']\n",
    "    N=len(row2)\n",
    "    np_array=np.array(list(row2.values()),dtype=np.float64)\n",
    "    np_array=np_array.reshape((int(np_array.shape[0]/3),3))\n",
    "    X=np_array[:,[0,1]]\n",
    "    p=np_array[:,2]\n",
    "    D=p>0\n",
    "    if cat != label : \n",
    "        return False, data, label\n",
    "    X_take=X[D]\n",
    "    p_take=p[D]\n",
    "    data = X_take\n",
    "    # data['p']=p_take\n",
    "    return True, data, label\n",
    "\n",
    "\n",
    "def row_to_numpy_2d_P(row, cat):\n",
    "    data={}\n",
    "    row2=row.copy()\n",
    "    data['label'] =row2['label']\n",
    "    del row2['label']\n",
    "    N=len(row2)\n",
    "    np_array=np.array(list(row2.values()),dtype=np.float64)\n",
    "    np_array=np_array.reshape((int(np_array.shape[0]/3),3))\n",
    "    X=np_array[:,[0,1]]\n",
    "    p=np_array[:,2]\n",
    "    D=p>0\n",
    "    if cat != data['label'] : \n",
    "        return False, data\n",
    "    X_take=X[D]\n",
    "    p_take=p[D]\n",
    "    data['X']=X_take\n",
    "    data['p']=p_take\n",
    "    return True, data\n",
    "# data=row_to_numpy(row)\n",
    "# print(data['X'][0])"
   ]
  },
  {
   "cell_type": "code",
   "execution_count": 91,
   "id": "a25e76c0-bd4c-424b-ad78-4e8c8f5f22cc",
   "metadata": {},
   "outputs": [],
   "source": [
    "#load and convert data \n",
    "data_list=list()\n",
    "label_list = list()\n",
    "with open('experiment/data/MNIST/train.csv', newline='') as csvfile:\n",
    "    reader = csv.DictReader(csvfile)\n",
    "    for row in reader:\n",
    "        cond, data, label=row_to_numpy_2d_noP(row, '0')\n",
    "        if cond : \n",
    "            data_list.append(data)\n",
    "            label_list.append(label)\n",
    "        if len(data_list) == 300 : \n",
    "            break;\n",
    "        \n",
    "with open('experiment/data/MNIST/train.csv', newline='') as csvfile:\n",
    "    reader = csv.DictReader(csvfile)\n",
    "    for row in reader:\n",
    "        cond, data, label=row_to_numpy_2d_noP(row, '1')\n",
    "        if cond : \n",
    "            data_list.append(data)\n",
    "            label_list.append(label)\n",
    "        if len(data_list) == 600 : \n",
    "            break;\n",
    "            \n",
    "with open('experiment/data/MNIST/train.csv', newline='') as csvfile:\n",
    "    reader = csv.DictReader(csvfile)\n",
    "    for row in reader:\n",
    "        cond, data, label=row_to_numpy_2d_noP(row, '2')\n",
    "        if cond : \n",
    "            data_list.append(data)\n",
    "            label_list.append(label)\n",
    "        if len(data_list) == 900 : \n",
    "            break;\n",
    "\n",
    "with open('experiment/data/MNIST/train.csv', newline='') as csvfile:\n",
    "    reader = csv.DictReader(csvfile)\n",
    "    for row in reader:\n",
    "        cond, data, label=row_to_numpy_2d_noP(row, '3')\n",
    "        if cond : \n",
    "            data_list.append(data)\n",
    "            label_list.append(label)\n",
    "        if len(data_list) == 1200 : \n",
    "            break;\n",
    "\n",
    "with open('experiment/data/MNIST/train.csv', newline='') as csvfile:\n",
    "    reader = csv.DictReader(csvfile)\n",
    "    for row in reader:\n",
    "        cond, data, label=row_to_numpy_2d_noP(row, '4')\n",
    "        if cond : \n",
    "            data_list.append(data)\n",
    "            label_list.append(label)\n",
    "        if len(data_list) == 1500 : \n",
    "            break;\n",
    "            \n",
    "with open('experiment/data/MNIST/train.csv', newline='') as csvfile:\n",
    "    reader = csv.DictReader(csvfile)\n",
    "    for row in reader:\n",
    "        cond, data, label=row_to_numpy_2d_noP(row, '5')\n",
    "        if cond : \n",
    "            data_list.append(data)\n",
    "            label_list.append(label)\n",
    "        if len(data_list) == 1800 : \n",
    "            break;\n",
    "            \n",
    "with open('experiment/data/MNIST/train.csv', newline='') as csvfile:\n",
    "    reader = csv.DictReader(csvfile)\n",
    "    for row in reader:\n",
    "        cond, data, label=row_to_numpy_2d_noP(row, '6')\n",
    "        if cond : \n",
    "            data_list.append(data)\n",
    "            label_list.append(label)\n",
    "        if len(data_list) == 2100 : \n",
    "            break;\n",
    "            \n",
    "            \n",
    "with open('experiment/data/MNIST/train.csv', newline='') as csvfile:\n",
    "    reader = csv.DictReader(csvfile)\n",
    "    for row in reader:\n",
    "        cond, data, label=row_to_numpy_2d_noP(row, '7')\n",
    "        if cond : \n",
    "            data_list.append(data)\n",
    "            label_list.append(label)\n",
    "        if len(data_list) == 2400 : \n",
    "            break;\n",
    "            \n",
    "            \n",
    "with open('experiment/data/MNIST/train.csv', newline='') as csvfile:\n",
    "    reader = csv.DictReader(csvfile)\n",
    "    for row in reader:\n",
    "        cond, data, label=row_to_numpy_2d_noP(row, '8')\n",
    "        if cond : \n",
    "            data_list.append(data)\n",
    "            label_list.append(label)\n",
    "        if len(data_list) == 2700 : \n",
    "            break;\n",
    "            \n",
    "with open('experiment/data/MNIST/train.csv', newline='') as csvfile:\n",
    "    reader = csv.DictReader(csvfile)\n",
    "    for row in reader:\n",
    "        cond, data, label=row_to_numpy_2d_noP(row, '9')\n",
    "        if cond : \n",
    "            data_list.append(data)\n",
    "            label_list.append(label)\n",
    "        if len(data_list) == 3000 : \n",
    "            break;"
   ]
  },
  {
   "cell_type": "code",
   "execution_count": 104,
   "id": "0593986d-be69-47df-b003-9812f30ff608",
   "metadata": {},
   "outputs": [],
   "source": [
    "file = (data_list, label_list)"
   ]
  },
  {
   "cell_type": "code",
   "execution_count": 109,
   "id": "ab3a6d77-f27a-43e9-b87e-18db6e935d8d",
   "metadata": {},
   "outputs": [],
   "source": [
    "torch.save(file,'experiment/pca/data/MNIST_noP.pt')"
   ]
  },
  {
   "cell_type": "code",
   "execution_count": 93,
   "id": "8105b622-2d90-4de4-9c7b-78c50d5aad0b",
   "metadata": {},
   "outputs": [
    {
     "data": {
      "text/plain": [
       "3000"
      ]
     },
     "execution_count": 93,
     "metadata": {},
     "output_type": "execute_result"
    }
   ],
   "source": [
    "len(label_list)"
   ]
  },
  {
   "cell_type": "code",
   "execution_count": 108,
   "id": "5f25be64-60ea-44b1-a9b1-a35c5b934895",
   "metadata": {},
   "outputs": [
    {
     "data": {
      "text/plain": [
       "3000"
      ]
     },
     "execution_count": 108,
     "metadata": {},
     "output_type": "execute_result"
    }
   ],
   "source": [
    "len(file[0])"
   ]
  },
  {
   "cell_type": "code",
   "execution_count": 118,
   "id": "4c3ff025-5b32-43b9-aec1-de6ba8ac4b37",
   "metadata": {},
   "outputs": [],
   "source": [
    "X, Y = torch.load('experiment/pca/data/MNIST_noP.pt')"
   ]
  },
  {
   "cell_type": "code",
   "execution_count": 121,
   "id": "f6609fce-3ecf-4191-9e1b-4e06fb1eb3c2",
   "metadata": {},
   "outputs": [
    {
     "data": {
      "text/plain": [
       "'0'"
      ]
     },
     "execution_count": 121,
     "metadata": {},
     "output_type": "execute_result"
    }
   ],
   "source": [
    "Y[0]"
   ]
  },
  {
   "cell_type": "code",
   "execution_count": null,
   "id": "62452346-fb3c-4f89-b01e-7e5249328d71",
   "metadata": {},
   "outputs": [],
   "source": []
  }
 ],
 "metadata": {
  "kernelspec": {
   "display_name": "Python 3 (ipykernel)",
   "language": "python",
   "name": "python3"
  },
  "language_info": {
   "codemirror_mode": {
    "name": "ipython",
    "version": 3
   },
   "file_extension": ".py",
   "mimetype": "text/x-python",
   "name": "python",
   "nbconvert_exporter": "python",
   "pygments_lexer": "ipython3",
   "version": "3.10.6"
  }
 },
 "nbformat": 4,
 "nbformat_minor": 5
}
